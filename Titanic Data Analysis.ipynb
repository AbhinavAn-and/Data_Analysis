{
 "cells": [
  {
   "cell_type": "markdown",
   "metadata": {},
   "source": [
    "# Data Analysis of the Titanic data set\n"
   ]
  },
  {
   "cell_type": "markdown",
   "metadata": {},
   "source": [
    "##### Questions to answer:\n",
    "\n",
    "1. What factors made people more likely to survive?\n",
    "2. How many passengers had one or more children?\n",
    "3. What was the minimum, maximum and mean fare for respective classes?\n",
    "4. How many passengers embarked on S,C or Q?\n",
    "5. What was the minimum and maximum age of the passengers?\n"
   ]
  },
  {
   "cell_type": "code",
   "execution_count": 124,
   "metadata": {},
   "outputs": [],
   "source": [
    "import pandas as pd\n",
    "\n",
    "# Reading the data and cleaning it\n",
    "titanic_data = pd.read_csv('titanic-data.csv')\n",
    "\n",
    "# Dropping the Nan values in 'Age' column.\n",
    "clean_data = titanic_data.dropna(subset=['Age'])\n",
    "\n",
    "# Since we don't need 'Cabin' Column,\n",
    "# we remove it.\n",
    "new_data = clean_data.drop('Cabin', axis=1)\n",
    "\n",
    "survivors = new_data.loc[new_data['Survived'] == 1]\n",
    "new_data = new_data.reset_index()"
   ]
  },
  {
   "cell_type": "code",
   "execution_count": 125,
   "metadata": {
    "scrolled": true
   },
   "outputs": [
    {
     "name": "stdout",
     "output_type": "stream",
     "text": [
      "Passengers from S :  554\n",
      "Passengers from C :  130\n",
      "Passengers from Q :  28\n"
     ]
    },
    {
     "data": {
      "image/png": "[encoded data removed]",
      "text/plain": [
       "<matplotlib.figure.Figure at 0x11a11b410>"
      ]
     },
     "metadata": {},
     "output_type": "display_data"
    }
   ],
   "source": [
    "# Number of people embarked\n",
    "# on S, C and Q.\n",
    "S_list = []\n",
    "C_list = []\n",
    "Q_list = []\n",
    "\n",
    "for value in new_data['Embarked']:\n",
    "    if value == 'S':\n",
    "        S_list.append(value)\n",
    "    elif value == 'C':\n",
    "        C_list.append(value)\n",
    "    elif value == 'Q':\n",
    "        Q_list.append(value)\n",
    "\n",
    "x = np.arange(3)\n",
    "plt.bar(x, height= [len(S_list), len(C_list), len(Q_list)], width = 0.1)\n",
    "plt.xticks(x, ['S','C','Q']);\n",
    "\n",
    "print \"Passengers from S : \", len(S_list)\n",
    "print \"Passengers from C : \", len(C_list)\n",
    "print \"Passengers from Q : \", len(Q_list)"
   ]
  },
  {
   "cell_type": "markdown",
   "metadata": {},
   "source": [
    "This shows that there were most passengers from S followed by C and Q."
   ]
  },
  {
   "cell_type": "code",
   "execution_count": 127,
   "metadata": {},
   "outputs": [
    {
     "name": "stdout",
     "output_type": "stream",
     "text": [
      "Total male passengers:  453\n",
      "Total female Passengers:  261\n"
     ]
    },
    {
     "data": {
      "image/png": "[encoded data removed]",
      "text/plain": [
       "<matplotlib.figure.Figure at 0x118a33510>"
      ]
     },
     "metadata": {},
     "output_type": "display_data"
    }
   ],
   "source": [
    "# Finding the total female and male passengers\n",
    "female = 0\n",
    "male = 0\n",
    "total_passengers = len(new_data)\n",
    "for people in new_data['Sex']:\n",
    "    if people == 'female':\n",
    "        female = female + 1\n",
    "    elif people == 'male':\n",
    "        male = male + 1\n",
    "\n",
    "\n",
    "import seaborn as sns\n",
    "sns.countplot(x=\"Sex\", data=new_data);\n",
    "print \"Total male passengers: \", male\n",
    "print \"Total female Passengers: \", female"
   ]
  },
  {
   "cell_type": "markdown",
   "metadata": {},
   "source": [
    "This shows that there are more male passengers than female passengers before the titanic sank."
   ]
  },
  {
   "cell_type": "code",
   "execution_count": 129,
   "metadata": {},
   "outputs": [
    {
     "name": "stdout",
     "output_type": "stream",
     "text": [
      "Max age of the passengers:  80\n",
      "Min age of the passengers:  0\n"
     ]
    },
    {
     "data": {
      "image/png": "[encoded data removed]",
      "text/plain": [
       "<matplotlib.figure.Figure at 0x11a22ba90>"
      ]
     },
     "metadata": {},
     "output_type": "display_data"
    }
   ],
   "source": [
    "# Showing the minimum and maximum fare\n",
    "# and the min and max ages of the passengers\n",
    "\n",
    "max_age = int(new_data['Age'].max())\n",
    "min_age = int(new_data['Age'].min())\n",
    "max_fare = new_data['Fare'].max()\n",
    "min_fare = new_data['Fare'].min()\n",
    "mean_fare = new_data['Age'].mean()\n",
    "\n",
    "print \"Max age of the passengers: \", max_age\n",
    "print \"Min age of the passengers: \", min_age\n",
    "\n",
    "sns.countplot(x=\"Age\", data=new_data, palette=\"Greens_d\");\n"
   ]
  },
  {
   "cell_type": "code",
   "execution_count": 130,
   "metadata": {},
   "outputs": [
    {
     "name": "stdout",
     "output_type": "stream",
     "text": [
      "Min fare of Titanic:  0.0\n",
      "Max fare of Titanic:  512.3292\n"
     ]
    },
    {
     "data": {
      "image/png": "[encoded data removed]",
      "text/plain": [
       "<matplotlib.figure.Figure at 0x119bc3250>"
      ]
     },
     "metadata": {},
     "output_type": "display_data"
    }
   ],
   "source": [
    "max_fare = new_data['Fare'].max()\n",
    "min_fare = new_data['Fare'].min()\n",
    "mean_fare = new_data['Age'].mean()\n",
    "print \"Min fare of Titanic: \", min_fare\n",
    "print \"Max fare of Titanic: \", max_fare\n",
    "sns.countplot(x=\"Fare\", data=new_data, palette=\"Greens_d\");\n"
   ]
  },
  {
   "cell_type": "code",
   "execution_count": 38,
   "metadata": {
    "collapsed": true
   },
   "outputs": [],
   "source": [
    "female_survivors = 0\n",
    "male_survivors = 0\n",
    "total_survivors = len(survivors)\n",
    "for people in survivors['Sex']:\n",
    "    if people == 'female':\n",
    "        female_survivors = female_survivors + 1\n",
    "    elif people == 'male':\n",
    "        male_survivors = male_survivors + 1\n"
   ]
  },
  {
   "cell_type": "code",
   "execution_count": 133,
   "metadata": {},
   "outputs": [
    {
     "name": "stdout",
     "output_type": "stream",
     "text": [
      "People on board:  714\n",
      "People survived:  290\n"
     ]
    },
    {
     "data": {
      "image/png": "[encoded data removed]",
      "text/plain": [
       "<matplotlib.figure.Figure at 0x119e796d0>"
      ]
     },
     "metadata": {},
     "output_type": "display_data"
    }
   ],
   "source": [
    "print \"People on board: \", len(new_data['Age'])\n",
    "print \"People survived: \", len(survivors['Age'])\n",
    "# Plots showing the Passenger Class, Sex and survival\n",
    "sns.barplot(x=\"Sex\", y=\"Survived\", hue=\"Pclass\", data=new_data);"
   ]
  },
  {
   "cell_type": "markdown",
   "metadata": {},
   "source": [
    "The plot is showing that there were more female survivors than male survivors and in those survivors, most of the survivors from both the genders were from class 1 or upper class.\n",
    "It can be infered that women were tried to save first and first class passengers were preferred over others."
   ]
  },
  {
   "cell_type": "code",
   "execution_count": 135,
   "metadata": {},
   "outputs": [
    {
     "data": {
      "image/png": "[encoded data removed]",
      "text/plain": [
       "<matplotlib.figure.Figure at 0x119d8c850>"
      ]
     },
     "metadata": {},
     "output_type": "display_data"
    }
   ],
   "source": [
    "%matplotlib inline\n",
    "import matplotlib.pyplot as plt\n",
    "passenger_plot = plt.hist(new_data['Age'])\n",
    "survivor_plot = plt.hist(survivors['Age'])"
   ]
  },
  {
   "cell_type": "markdown",
   "metadata": {},
   "source": [
    "This plot shows that the difference between the passengers and survivors is least in the age group of 0-10.\n",
    "This shows that children were tried to save first."
   ]
  },
  {
   "cell_type": "code",
   "execution_count": 41,
   "metadata": {},
   "outputs": [
    {
     "name": "stdout",
     "output_type": "stream",
     "text": [
      "People boarding at S :  554\n",
      "People boarding at Q :  28\n",
      "People boarding at C :  130\n",
      "Max Fare($) :  512.3292\n",
      "Min Fare($) :  0.0\n",
      "Mean Fare($) :  29.6991176471\n",
      "Max Age(years) :  80\n",
      "Min Age(years) :  0\n",
      "Total Passengers :  714\n",
      "Male Passengers :  453\n",
      "Female Passengers :  261\n",
      "Total Survivors :  290\n",
      "Female Survivors :  197\n",
      "Male Survivors :  93\n",
      "Yougest Survivor's age :  0\n",
      "Oldest Survivor's age :  80\n",
      "Mean age of survivors :  28.3436896552\n"
     ]
    }
   ],
   "source": [
    "print \"People boarding at S : \", len(S_list)\n",
    "print \"People boarding at Q : \", len(Q_list)\n",
    "print \"People boarding at C : \", len(C_list)\n",
    "print \"Max Fare($) : \", max_fare\n",
    "print \"Min Fare($) : \", min_fare\n",
    "print \"Mean Fare($) : \", mean_fare\n",
    "print \"Max Age(years) : \", max_age\n",
    "print \"Min Age(years) : \", min_age\n",
    "# print \"Children : \", siblings\n",
    "print \"Total Passengers : \", total_passengers\n",
    "print \"Male Passengers : \", male\n",
    "print \"Female Passengers : \", female\n",
    "print \"Total Survivors : \", total_survivors\n",
    "print \"Female Survivors : \", female_survivors\n",
    "print \"Male Survivors : \", male_survivors\n",
    "print \"Yougest Survivor's age : \", youngest_survivor\n",
    "print \"Oldest Survivor's age : \", oldest_survivor\n",
    "# print \"Number of survivors having children : \", survivor_siblings\n",
    "print \"Mean age of survivors : \", mean_survivor_age"
   ]
  },
  {
   "cell_type": "code",
   "execution_count": null,
   "metadata": {
    "collapsed": true
   },
   "outputs": [],
   "source": []
  }
 ],
 "metadata": {
  "kernelspec": {
   "display_name": "Python [conda root]",
   "language": "python",
   "name": "conda-root-py"
  },
  "language_info": {
   "codemirror_mode": {
    "name": "ipython",
    "version": 2
   },
   "file_extension": ".py",
   "mimetype": "text/x-python",
   "name": "python",
   "nbconvert_exporter": "python",
   "pygments_lexer": "ipython2",
   "version": "2.7.13"
  }
 },
 "nbformat": 4,
 "nbformat_minor": 2
}
