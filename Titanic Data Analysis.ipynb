{
 "cells": [
  {
   "cell_type": "markdown",
   "metadata": {},
   "source": [
    "# Data Analysis of the Titanic data set\n"
   ]
  },
  {
   "cell_type": "markdown",
   "metadata": {},
   "source": [
    "##### Questions to answer:\n",
    "\n",
    "1. What factors made people more likely to survive?\n",
    "2. How many passengers had one or more children?\n",
    "3. What was the minimum, maximum and mean fare for respective classes?\n",
    "4. How many passengers embarked on S,C or Q?\n",
    "5. What was the minimum and maximum age of the passengers?\n"
   ]
  },
  {
   "cell_type": "code",
   "execution_count": 13,
   "metadata": {},
   "outputs": [],
   "source": [
    "import pandas as pd\n",
    "\n",
    "# Reading the data and cleaning it\n",
    "titanic_data = pd.read_csv('titanic-data.csv')\n",
    "\n",
    "# Dropping the Nan values in 'Age' column.\n",
    "clean_data = titanic_data.dropna(subset=['Age'])\n",
    "\n",
    "# Since we don't need 'Cabin' Column,\n",
    "# we remove it.\n",
    "new_data = clean_data.drop('Cabin', axis=1)\n",
    "\n",
    "survivors = new_data.loc[new_data['Survived'] == 1]"
   ]
  },
  {
   "cell_type": "code",
   "execution_count": null,
   "metadata": {
    "collapsed": true
   },
   "outputs": [],
   "source": []
  },
  {
   "cell_type": "code",
   "execution_count": 177,
   "metadata": {
    "collapsed": true
   },
   "outputs": [],
   "source": [
    "# Number of people embarked\n",
    "# on S, C and Q.\n",
    "S_list = []\n",
    "C_list = []\n",
    "Q_list = []\n",
    "\n",
    "max_age = int(new_data['Age'].max())\n",
    "min_age = int(new_data['Age'].min())\n",
    "max_fare = new_data['Fare'].max()\n",
    "min_fare = new_data['Fare'].min()\n",
    "mean_fare = new_data['Age'].mean()\n",
    "\n",
    "for value in new_data['Embarked']:\n",
    "    if value == 'S':\n",
    "        S_list.append(value)\n",
    "    elif value == 'C':\n",
    "        C_list.append(value)\n",
    "    elif value == 'Q':\n",
    "        Q_list.append(value)\n"
   ]
  },
  {
   "cell_type": "code",
   "execution_count": 183,
   "metadata": {
    "collapsed": true
   },
   "outputs": [],
   "source": [
    "female = 0\n",
    "male = 0\n",
    "total_survivors = len(survivors)\n",
    "for people in survivors['Sex']:\n",
    "    if people == 'female':\n",
    "        female = female + 1\n",
    "    elif people == 'male':\n",
    "        male = male + 1\n",
    "\n",
    "youngest_survivor = int(survivors['Age'].min())\n",
    "oldest_survivor = int(survivors['Age'].max())\n",
    "# Mean age of survivors\n",
    "mean_survivor_age = survivors['Age'].mean()\n"
   ]
  },
  {
   "cell_type": "code",
   "execution_count": 184,
   "metadata": {
    "collapsed": true
   },
   "outputs": [],
   "source": [
    "# Out of 290 survivors, 115 had siblings\n",
    "survivor_children = 0\n",
    "for children in survivors['SibSp']:\n",
    "    if children > 0:\n",
    "        survivor_children = survivor_children + 1\n"
   ]
  },
  {
   "cell_type": "code",
   "execution_count": 187,
   "metadata": {},
   "outputs": [
    {
     "name": "stdout",
     "output_type": "stream",
     "text": [
      "People boarding at S :  554\n",
      "People boarding at Q :  28\n",
      "People boarding at C :  130\n",
      "Max Fare($) :  512.3292\n",
      "Min Fare($) :  0.0\n",
      "Mean Fare($) :  29.6991176471\n",
      "Max Age(years) :  80\n",
      "Min Age(years) :  0\n",
      "Total Survivors :  290\n",
      "Female Survivors :  197\n",
      "Male Survivors :  93\n",
      "Yougest Survivor's age :  0\n",
      "Oldest Survivor's age :  80\n",
      "Mean age of survivors :  28.3436896552\n"
     ]
    }
   ],
   "source": [
    "print \"People boarding at S : \", len(S_list)\n",
    "print \"People boarding at Q : \", len(Q_list)\n",
    "print \"People boarding at C : \", len(C_list)\n",
    "print \"Max Fare($) : \", max_fare\n",
    "print \"Min Fare($) : \", min_fare\n",
    "print \"Mean Fare($) : \", mean_fare\n",
    "print \"Max Age(years) : \", max_age\n",
    "print \"Min Age(years) : \", min_age\n",
    "# print \"Children : \", siblings\n",
    "print \"Total Survivors : \", total_survivors\n",
    "print \"Female Survivors : \", female\n",
    "print \"Male Survivors : \", male\n",
    "print \"Yougest Survivor's age : \", youngest_survivor\n",
    "print \"Oldest Survivor's age : \", oldest_survivor\n",
    "# print \"Number of survivors having children : \", survivor_siblings\n",
    "print \"Mean age of survivors : \", mean_survivor_age"
   ]
  },
  {
   "cell_type": "code",
   "execution_count": 182,
   "metadata": {},
   "outputs": [
    {
     "name": "stdout",
     "output_type": "stream",
     "text": [
      "97\n"
     ]
    }
   ],
   "source": [
    "# 97 out of the 290 survivors were between the age 30 and 50.\n",
    "count = 0\n",
    "for age in survivors['Age']:\n",
    "    if age > 30 and age < 50:\n",
    "        count = count + 1\n",
    "        \n",
    "print count"
   ]
  }
 ],
 "metadata": {
  "kernelspec": {
   "display_name": "Python [conda root]",
   "language": "python",
   "name": "conda-root-py"
  },
  "language_info": {
   "codemirror_mode": {
    "name": "ipython",
    "version": 2
   },
   "file_extension": ".py",
   "mimetype": "text/x-python",
   "name": "python",
   "nbconvert_exporter": "python",
   "pygments_lexer": "ipython2",
   "version": "2.7.13"
  }
 },
 "nbformat": 4,
 "nbformat_minor": 2
}
